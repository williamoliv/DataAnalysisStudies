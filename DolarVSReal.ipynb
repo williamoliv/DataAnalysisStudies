{
 "cells": [
  {
   "attachments": {},
   "cell_type": "markdown",
   "metadata": {},
   "source": [
    "### DOLAR VS BRAZILIAN REAL"
   ]
  },
  {
   "cell_type": "code",
   "execution_count": 2,
   "metadata": {},
   "outputs": [],
   "source": [
    "import requests\n",
    "import pandas as pd\n",
    "import matplotlib.pyplot as plt"
   ]
  },
  {
   "cell_type": "code",
   "execution_count": 14,
   "metadata": {},
   "outputs": [],
   "source": [
    "key = 'KEY'"
   ]
  },
  {
   "cell_type": "code",
   "execution_count": 16,
   "metadata": {},
   "outputs": [
    {
     "data": {
      "text/plain": [
       "<Response [404]>"
      ]
     },
     "execution_count": 16,
     "metadata": {},
     "output_type": "execute_result"
    }
   ],
   "source": [
    "# URL REQUEST AND CHECK THE RESPONSE\n",
    "url = 'https://v6.exchangerate-api.com/v6/{key}/latest/USD'\n",
    "\n",
    "response = requests.get(url)\n",
    "response"
   ]
  },
  {
   "cell_type": "code",
   "execution_count": 5,
   "metadata": {},
   "outputs": [
    {
     "data": {
      "text/plain": [
       "{'result': 'success',\n",
       " 'documentation': 'https://www.exchangerate-api.com/docs',\n",
       " 'terms_of_use': 'https://www.exchangerate-api.com/terms',\n",
       " 'time_last_update_unix': 1686268802,\n",
       " 'time_last_update_utc': 'Fri, 09 Jun 2023 00:00:02 +0000',\n",
       " 'time_next_update_unix': 1686355202,\n",
       " 'time_next_update_utc': 'Sat, 10 Jun 2023 00:00:02 +0000',\n",
       " 'base_code': 'USD',\n",
       " 'conversion_rates': {'USD': 1,\n",
       "  'AED': 3.6725,\n",
       "  'AFN': 86.283,\n",
       "  'ALL': 99.5359,\n",
       "  'AMD': 386.7124,\n",
       "  'ANG': 1.79,\n",
       "  'AOA': 612.784,\n",
       "  'ARS': 243.015,\n",
       "  'AUD': 1.4907,\n",
       "  'AWG': 1.79,\n",
       "  'AZN': 1.6997,\n",
       "  'BAM': 1.8161,\n",
       "  'BBD': 2.0,\n",
       "  'BDT': 107.9549,\n",
       "  'BGN': 1.8167,\n",
       "  'BHD': 0.376,\n",
       "  'BIF': 2815.437,\n",
       "  'BMD': 1.0,\n",
       "  'BND': 1.3446,\n",
       "  'BOB': 6.9205,\n",
       "  'BRL': 4.924,\n",
       "  'BSD': 1.0,\n",
       "  'BTN': 82.5287,\n",
       "  'BWP': 13.5596,\n",
       "  'BYN': 2.8317,\n",
       "  'BZD': 2.0,\n",
       "  'CAD': 1.3359,\n",
       "  'CDF': 2253.3002,\n",
       "  'CHF': 0.9006,\n",
       "  'CLP': 793.0411,\n",
       "  'CNY': 7.1198,\n",
       "  'COP': 4214.5948,\n",
       "  'CRC': 538.2806,\n",
       "  'CUP': 24.0,\n",
       "  'CVE': 102.3879,\n",
       "  'CZK': 21.9689,\n",
       "  'DJF': 177.721,\n",
       "  'DKK': 6.9274,\n",
       "  'DOP': 54.7789,\n",
       "  'DZD': 136.4909,\n",
       "  'EGP': 30.8754,\n",
       "  'ERN': 15.0,\n",
       "  'ETB': 54.7063,\n",
       "  'EUR': 0.9286,\n",
       "  'FJD': 2.2315,\n",
       "  'FKP': 0.7983,\n",
       "  'FOK': 6.9274,\n",
       "  'GBP': 0.7977,\n",
       "  'GEL': 2.6098,\n",
       "  'GGP': 0.7983,\n",
       "  'GHS': 11.5105,\n",
       "  'GIP': 0.7983,\n",
       "  'GMD': 62.457,\n",
       "  'GNF': 8553.7067,\n",
       "  'GTQ': 7.8276,\n",
       "  'GYD': 211.3606,\n",
       "  'HKD': 7.8362,\n",
       "  'HNL': 24.5893,\n",
       "  'HRK': 6.9962,\n",
       "  'HTG': 139.3128,\n",
       "  'HUF': 342.7355,\n",
       "  'IDR': 14850.2066,\n",
       "  'ILS': 3.6507,\n",
       "  'IMP': 0.7983,\n",
       "  'INR': 82.5287,\n",
       "  'IQD': 1307.853,\n",
       "  'IRR': 41998.05,\n",
       "  'ISK': 140.1221,\n",
       "  'JEP': 0.7983,\n",
       "  'JMD': 154.9158,\n",
       "  'JOD': 0.709,\n",
       "  'JPY': 139.0105,\n",
       "  'KES': 139.4673,\n",
       "  'KGS': 87.4249,\n",
       "  'KHR': 4138.9318,\n",
       "  'KID': 1.4906,\n",
       "  'KMF': 456.8224,\n",
       "  'KRW': 1299.9152,\n",
       "  'KWD': 0.3075,\n",
       "  'KYD': 0.8333,\n",
       "  'KZT': 444.4784,\n",
       "  'LAK': 18118.2096,\n",
       "  'LBP': 15000.0,\n",
       "  'LKR': 293.7736,\n",
       "  'LRD': 172.5022,\n",
       "  'LSL': 18.859,\n",
       "  'LYD': 4.8407,\n",
       "  'MAD': 10.135,\n",
       "  'MDL': 17.818,\n",
       "  'MGA': 4402.9048,\n",
       "  'MKD': 57.4425,\n",
       "  'MMK': 2100.2691,\n",
       "  'MNT': 3483.151,\n",
       "  'MOP': 8.0714,\n",
       "  'MRU': 34.4298,\n",
       "  'MUR': 45.5848,\n",
       "  'MVR': 15.4265,\n",
       "  'MWK': 1029.7355,\n",
       "  'MXN': 17.3815,\n",
       "  'MYR': 4.6112,\n",
       "  'MZN': 63.9856,\n",
       "  'NAD': 18.859,\n",
       "  'NGN': 465.8315,\n",
       "  'NIO': 36.5607,\n",
       "  'NOK': 10.9167,\n",
       "  'NPR': 132.0459,\n",
       "  'NZD': 1.6415,\n",
       "  'OMR': 0.3845,\n",
       "  'PAB': 1.0,\n",
       "  'PEN': 3.6655,\n",
       "  'PGK': 3.545,\n",
       "  'PHP': 56.077,\n",
       "  'PKR': 285.0243,\n",
       "  'PLN': 4.1639,\n",
       "  'PYG': 7200.2369,\n",
       "  'QAR': 3.64,\n",
       "  'RON': 4.6085,\n",
       "  'RSD': 109.3796,\n",
       "  'RUB': 81.9415,\n",
       "  'RWF': 1166.5082,\n",
       "  'SAR': 3.75,\n",
       "  'SBD': 8.4995,\n",
       "  'SCR': 13.4405,\n",
       "  'SDG': 535.2681,\n",
       "  'SEK': 10.8183,\n",
       "  'SGD': 1.3446,\n",
       "  'SHP': 0.7983,\n",
       "  'SLE': 22.6687,\n",
       "  'SLL': 22668.7158,\n",
       "  'SOS': 568.4806,\n",
       "  'SRD': 37.6484,\n",
       "  'SSP': 974.3945,\n",
       "  'STN': 22.7498,\n",
       "  'SYP': 2500.3904,\n",
       "  'SZL': 18.859,\n",
       "  'THB': 34.6837,\n",
       "  'TJS': 10.8763,\n",
       "  'TMT': 3.4991,\n",
       "  'TND': 3.1149,\n",
       "  'TOP': 2.3408,\n",
       "  'TRY': 23.4025,\n",
       "  'TTD': 6.7575,\n",
       "  'TVD': 1.4906,\n",
       "  'TWD': 30.6888,\n",
       "  'TZS': 2371.3856,\n",
       "  'UAH': 36.9038,\n",
       "  'UGX': 3718.0763,\n",
       "  'UYU': 38.8817,\n",
       "  'UZS': 11421.1995,\n",
       "  'VES': 26.8571,\n",
       "  'VND': 23457.2027,\n",
       "  'VUV': 119.632,\n",
       "  'WST': 2.7408,\n",
       "  'XAF': 609.0965,\n",
       "  'XCD': 2.7,\n",
       "  'XDR': 0.7517,\n",
       "  'XOF': 609.0965,\n",
       "  'XPF': 110.8071,\n",
       "  'YER': 250.0857,\n",
       "  'ZAR': 18.8581,\n",
       "  'ZMW': 20.1144,\n",
       "  'ZWL': 4325.2617}}"
      ]
     },
     "execution_count": 5,
     "metadata": {},
     "output_type": "execute_result"
    }
   ],
   "source": [
    "data = response.json()\n",
    "data"
   ]
  },
  {
   "cell_type": "code",
   "execution_count": 6,
   "metadata": {},
   "outputs": [
    {
     "data": {
      "text/plain": [
       "dict"
      ]
     },
     "execution_count": 6,
     "metadata": {},
     "output_type": "execute_result"
    }
   ],
   "source": [
    "type(data)"
   ]
  },
  {
   "cell_type": "code",
   "execution_count": 7,
   "metadata": {},
   "outputs": [
    {
     "data": {
      "text/html": [
       "<div>\n",
       "<style scoped>\n",
       "    .dataframe tbody tr th:only-of-type {\n",
       "        vertical-align: middle;\n",
       "    }\n",
       "\n",
       "    .dataframe tbody tr th {\n",
       "        vertical-align: top;\n",
       "    }\n",
       "\n",
       "    .dataframe thead th {\n",
       "        text-align: right;\n",
       "    }\n",
       "</style>\n",
       "<table border=\"1\" class=\"dataframe\">\n",
       "  <thead>\n",
       "    <tr style=\"text-align: right;\">\n",
       "      <th></th>\n",
       "      <th>result</th>\n",
       "      <th>documentation</th>\n",
       "      <th>terms_of_use</th>\n",
       "      <th>time_last_update_unix</th>\n",
       "      <th>time_last_update_utc</th>\n",
       "      <th>time_next_update_unix</th>\n",
       "      <th>time_next_update_utc</th>\n",
       "      <th>base_code</th>\n",
       "      <th>conversion_rates</th>\n",
       "    </tr>\n",
       "  </thead>\n",
       "  <tbody>\n",
       "    <tr>\n",
       "      <th>AED</th>\n",
       "      <td>success</td>\n",
       "      <td>https://www.exchangerate-api.com/docs</td>\n",
       "      <td>https://www.exchangerate-api.com/terms</td>\n",
       "      <td>1686268802</td>\n",
       "      <td>Fri, 09 Jun 2023 00:00:02 +0000</td>\n",
       "      <td>1686355202</td>\n",
       "      <td>Sat, 10 Jun 2023 00:00:02 +0000</td>\n",
       "      <td>USD</td>\n",
       "      <td>3.6725</td>\n",
       "    </tr>\n",
       "    <tr>\n",
       "      <th>AFN</th>\n",
       "      <td>success</td>\n",
       "      <td>https://www.exchangerate-api.com/docs</td>\n",
       "      <td>https://www.exchangerate-api.com/terms</td>\n",
       "      <td>1686268802</td>\n",
       "      <td>Fri, 09 Jun 2023 00:00:02 +0000</td>\n",
       "      <td>1686355202</td>\n",
       "      <td>Sat, 10 Jun 2023 00:00:02 +0000</td>\n",
       "      <td>USD</td>\n",
       "      <td>86.2830</td>\n",
       "    </tr>\n",
       "    <tr>\n",
       "      <th>ALL</th>\n",
       "      <td>success</td>\n",
       "      <td>https://www.exchangerate-api.com/docs</td>\n",
       "      <td>https://www.exchangerate-api.com/terms</td>\n",
       "      <td>1686268802</td>\n",
       "      <td>Fri, 09 Jun 2023 00:00:02 +0000</td>\n",
       "      <td>1686355202</td>\n",
       "      <td>Sat, 10 Jun 2023 00:00:02 +0000</td>\n",
       "      <td>USD</td>\n",
       "      <td>99.5359</td>\n",
       "    </tr>\n",
       "    <tr>\n",
       "      <th>AMD</th>\n",
       "      <td>success</td>\n",
       "      <td>https://www.exchangerate-api.com/docs</td>\n",
       "      <td>https://www.exchangerate-api.com/terms</td>\n",
       "      <td>1686268802</td>\n",
       "      <td>Fri, 09 Jun 2023 00:00:02 +0000</td>\n",
       "      <td>1686355202</td>\n",
       "      <td>Sat, 10 Jun 2023 00:00:02 +0000</td>\n",
       "      <td>USD</td>\n",
       "      <td>386.7124</td>\n",
       "    </tr>\n",
       "    <tr>\n",
       "      <th>ANG</th>\n",
       "      <td>success</td>\n",
       "      <td>https://www.exchangerate-api.com/docs</td>\n",
       "      <td>https://www.exchangerate-api.com/terms</td>\n",
       "      <td>1686268802</td>\n",
       "      <td>Fri, 09 Jun 2023 00:00:02 +0000</td>\n",
       "      <td>1686355202</td>\n",
       "      <td>Sat, 10 Jun 2023 00:00:02 +0000</td>\n",
       "      <td>USD</td>\n",
       "      <td>1.7900</td>\n",
       "    </tr>\n",
       "    <tr>\n",
       "      <th>...</th>\n",
       "      <td>...</td>\n",
       "      <td>...</td>\n",
       "      <td>...</td>\n",
       "      <td>...</td>\n",
       "      <td>...</td>\n",
       "      <td>...</td>\n",
       "      <td>...</td>\n",
       "      <td>...</td>\n",
       "      <td>...</td>\n",
       "    </tr>\n",
       "    <tr>\n",
       "      <th>XPF</th>\n",
       "      <td>success</td>\n",
       "      <td>https://www.exchangerate-api.com/docs</td>\n",
       "      <td>https://www.exchangerate-api.com/terms</td>\n",
       "      <td>1686268802</td>\n",
       "      <td>Fri, 09 Jun 2023 00:00:02 +0000</td>\n",
       "      <td>1686355202</td>\n",
       "      <td>Sat, 10 Jun 2023 00:00:02 +0000</td>\n",
       "      <td>USD</td>\n",
       "      <td>110.8071</td>\n",
       "    </tr>\n",
       "    <tr>\n",
       "      <th>YER</th>\n",
       "      <td>success</td>\n",
       "      <td>https://www.exchangerate-api.com/docs</td>\n",
       "      <td>https://www.exchangerate-api.com/terms</td>\n",
       "      <td>1686268802</td>\n",
       "      <td>Fri, 09 Jun 2023 00:00:02 +0000</td>\n",
       "      <td>1686355202</td>\n",
       "      <td>Sat, 10 Jun 2023 00:00:02 +0000</td>\n",
       "      <td>USD</td>\n",
       "      <td>250.0857</td>\n",
       "    </tr>\n",
       "    <tr>\n",
       "      <th>ZAR</th>\n",
       "      <td>success</td>\n",
       "      <td>https://www.exchangerate-api.com/docs</td>\n",
       "      <td>https://www.exchangerate-api.com/terms</td>\n",
       "      <td>1686268802</td>\n",
       "      <td>Fri, 09 Jun 2023 00:00:02 +0000</td>\n",
       "      <td>1686355202</td>\n",
       "      <td>Sat, 10 Jun 2023 00:00:02 +0000</td>\n",
       "      <td>USD</td>\n",
       "      <td>18.8581</td>\n",
       "    </tr>\n",
       "    <tr>\n",
       "      <th>ZMW</th>\n",
       "      <td>success</td>\n",
       "      <td>https://www.exchangerate-api.com/docs</td>\n",
       "      <td>https://www.exchangerate-api.com/terms</td>\n",
       "      <td>1686268802</td>\n",
       "      <td>Fri, 09 Jun 2023 00:00:02 +0000</td>\n",
       "      <td>1686355202</td>\n",
       "      <td>Sat, 10 Jun 2023 00:00:02 +0000</td>\n",
       "      <td>USD</td>\n",
       "      <td>20.1144</td>\n",
       "    </tr>\n",
       "    <tr>\n",
       "      <th>ZWL</th>\n",
       "      <td>success</td>\n",
       "      <td>https://www.exchangerate-api.com/docs</td>\n",
       "      <td>https://www.exchangerate-api.com/terms</td>\n",
       "      <td>1686268802</td>\n",
       "      <td>Fri, 09 Jun 2023 00:00:02 +0000</td>\n",
       "      <td>1686355202</td>\n",
       "      <td>Sat, 10 Jun 2023 00:00:02 +0000</td>\n",
       "      <td>USD</td>\n",
       "      <td>4325.2617</td>\n",
       "    </tr>\n",
       "  </tbody>\n",
       "</table>\n",
       "<p>162 rows × 9 columns</p>\n",
       "</div>"
      ],
      "text/plain": [
       "      result                          documentation   \n",
       "AED  success  https://www.exchangerate-api.com/docs  \\\n",
       "AFN  success  https://www.exchangerate-api.com/docs   \n",
       "ALL  success  https://www.exchangerate-api.com/docs   \n",
       "AMD  success  https://www.exchangerate-api.com/docs   \n",
       "ANG  success  https://www.exchangerate-api.com/docs   \n",
       "..       ...                                    ...   \n",
       "XPF  success  https://www.exchangerate-api.com/docs   \n",
       "YER  success  https://www.exchangerate-api.com/docs   \n",
       "ZAR  success  https://www.exchangerate-api.com/docs   \n",
       "ZMW  success  https://www.exchangerate-api.com/docs   \n",
       "ZWL  success  https://www.exchangerate-api.com/docs   \n",
       "\n",
       "                               terms_of_use  time_last_update_unix   \n",
       "AED  https://www.exchangerate-api.com/terms             1686268802  \\\n",
       "AFN  https://www.exchangerate-api.com/terms             1686268802   \n",
       "ALL  https://www.exchangerate-api.com/terms             1686268802   \n",
       "AMD  https://www.exchangerate-api.com/terms             1686268802   \n",
       "ANG  https://www.exchangerate-api.com/terms             1686268802   \n",
       "..                                      ...                    ...   \n",
       "XPF  https://www.exchangerate-api.com/terms             1686268802   \n",
       "YER  https://www.exchangerate-api.com/terms             1686268802   \n",
       "ZAR  https://www.exchangerate-api.com/terms             1686268802   \n",
       "ZMW  https://www.exchangerate-api.com/terms             1686268802   \n",
       "ZWL  https://www.exchangerate-api.com/terms             1686268802   \n",
       "\n",
       "                time_last_update_utc  time_next_update_unix   \n",
       "AED  Fri, 09 Jun 2023 00:00:02 +0000             1686355202  \\\n",
       "AFN  Fri, 09 Jun 2023 00:00:02 +0000             1686355202   \n",
       "ALL  Fri, 09 Jun 2023 00:00:02 +0000             1686355202   \n",
       "AMD  Fri, 09 Jun 2023 00:00:02 +0000             1686355202   \n",
       "ANG  Fri, 09 Jun 2023 00:00:02 +0000             1686355202   \n",
       "..                               ...                    ...   \n",
       "XPF  Fri, 09 Jun 2023 00:00:02 +0000             1686355202   \n",
       "YER  Fri, 09 Jun 2023 00:00:02 +0000             1686355202   \n",
       "ZAR  Fri, 09 Jun 2023 00:00:02 +0000             1686355202   \n",
       "ZMW  Fri, 09 Jun 2023 00:00:02 +0000             1686355202   \n",
       "ZWL  Fri, 09 Jun 2023 00:00:02 +0000             1686355202   \n",
       "\n",
       "                time_next_update_utc base_code  conversion_rates  \n",
       "AED  Sat, 10 Jun 2023 00:00:02 +0000       USD            3.6725  \n",
       "AFN  Sat, 10 Jun 2023 00:00:02 +0000       USD           86.2830  \n",
       "ALL  Sat, 10 Jun 2023 00:00:02 +0000       USD           99.5359  \n",
       "AMD  Sat, 10 Jun 2023 00:00:02 +0000       USD          386.7124  \n",
       "ANG  Sat, 10 Jun 2023 00:00:02 +0000       USD            1.7900  \n",
       "..                               ...       ...               ...  \n",
       "XPF  Sat, 10 Jun 2023 00:00:02 +0000       USD          110.8071  \n",
       "YER  Sat, 10 Jun 2023 00:00:02 +0000       USD          250.0857  \n",
       "ZAR  Sat, 10 Jun 2023 00:00:02 +0000       USD           18.8581  \n",
       "ZMW  Sat, 10 Jun 2023 00:00:02 +0000       USD           20.1144  \n",
       "ZWL  Sat, 10 Jun 2023 00:00:02 +0000       USD         4325.2617  \n",
       "\n",
       "[162 rows x 9 columns]"
      ]
     },
     "execution_count": 7,
     "metadata": {},
     "output_type": "execute_result"
    }
   ],
   "source": [
    "df = pd.DataFrame(data)\n",
    "df"
   ]
  },
  {
   "cell_type": "code",
   "execution_count": 8,
   "metadata": {},
   "outputs": [
    {
     "name": "stdout",
     "output_type": "stream",
     "text": [
      "['AED', 'AFN', 'ALL', 'AMD', 'ANG', 'AOA', 'ARS', 'AUD', 'AWG', 'AZN', 'BAM', 'BBD', 'BDT', 'BGN', 'BHD', 'BIF', 'BMD', 'BND', 'BOB', 'BRL', 'BSD', 'BTN', 'BWP', 'BYN', 'BZD', 'CAD', 'CDF', 'CHF', 'CLP', 'CNY', 'COP', 'CRC', 'CUP', 'CVE', 'CZK', 'DJF', 'DKK', 'DOP', 'DZD', 'EGP', 'ERN', 'ETB', 'EUR', 'FJD', 'FKP', 'FOK', 'GBP', 'GEL', 'GGP', 'GHS', 'GIP', 'GMD', 'GNF', 'GTQ', 'GYD', 'HKD', 'HNL', 'HRK', 'HTG', 'HUF', 'IDR', 'ILS', 'IMP', 'INR', 'IQD', 'IRR', 'ISK', 'JEP', 'JMD', 'JOD', 'JPY', 'KES', 'KGS', 'KHR', 'KID', 'KMF', 'KRW', 'KWD', 'KYD', 'KZT', 'LAK', 'LBP', 'LKR', 'LRD', 'LSL', 'LYD', 'MAD', 'MDL', 'MGA', 'MKD', 'MMK', 'MNT', 'MOP', 'MRU', 'MUR', 'MVR', 'MWK', 'MXN', 'MYR', 'MZN', 'NAD', 'NGN', 'NIO', 'NOK', 'NPR', 'NZD', 'OMR', 'PAB', 'PEN', 'PGK', 'PHP', 'PKR', 'PLN', 'PYG', 'QAR', 'RON', 'RSD', 'RUB', 'RWF', 'SAR', 'SBD', 'SCR', 'SDG', 'SEK', 'SGD', 'SHP', 'SLE', 'SLL', 'SOS', 'SRD', 'SSP', 'STN', 'SYP', 'SZL', 'THB', 'TJS', 'TMT', 'TND', 'TOP', 'TRY', 'TTD', 'TVD', 'TWD', 'TZS', 'UAH', 'UGX', 'USD', 'UYU', 'UZS', 'VES', 'VND', 'VUV', 'WST', 'XAF', 'XCD', 'XDR', 'XOF', 'XPF', 'YER', 'ZAR', 'ZMW', 'ZWL']\n"
     ]
    }
   ],
   "source": [
    "print(list(df.index.values))"
   ]
  },
  {
   "cell_type": "code",
   "execution_count": 9,
   "metadata": {},
   "outputs": [
    {
     "data": {
      "text/plain": [
       "4.924"
      ]
     },
     "execution_count": 9,
     "metadata": {},
     "output_type": "execute_result"
    }
   ],
   "source": [
    "brl = (float(df.loc['BRL']['conversion_rates']))\n",
    "#float(brl)\n",
    "brl"
   ]
  },
  {
   "cell_type": "code",
   "execution_count": 10,
   "metadata": {},
   "outputs": [
    {
     "data": {
      "text/plain": [
       "1.0"
      ]
     },
     "execution_count": 10,
     "metadata": {},
     "output_type": "execute_result"
    }
   ],
   "source": [
    "usd = (float(df.loc['USD']['conversion_rates']))\n",
    "usd"
   ]
  },
  {
   "cell_type": "code",
   "execution_count": 11,
   "metadata": {},
   "outputs": [],
   "source": [
    "#Finding how much one money worth more than the other \n",
    "math = brl/usd\n",
    "math2 = usd/brl"
   ]
  },
  {
   "cell_type": "code",
   "execution_count": 12,
   "metadata": {},
   "outputs": [],
   "source": [
    "def result():\n",
    "    if brl < usd:\n",
    "        print('Brazilian Real worth' , math2  ,'times US Dollar.')\n",
    "    else:\n",
    "        print('US Dollar worth' , math  ,'times Brazilian Real.')"
   ]
  },
  {
   "cell_type": "code",
   "execution_count": 13,
   "metadata": {},
   "outputs": [
    {
     "name": "stdout",
     "output_type": "stream",
     "text": [
      "US Dollar worth 4.924 times Brazilian Real.\n"
     ]
    }
   ],
   "source": [
    "result()"
   ]
  }
 ],
 "metadata": {
  "kernelspec": {
   "display_name": "Python 3",
   "language": "python",
   "name": "python3"
  },
  "language_info": {
   "codemirror_mode": {
    "name": "ipython",
    "version": 3
   },
   "file_extension": ".py",
   "mimetype": "text/x-python",
   "name": "python",
   "nbconvert_exporter": "python",
   "pygments_lexer": "ipython3",
   "version": "3.11.3"
  },
  "orig_nbformat": 4
 },
 "nbformat": 4,
 "nbformat_minor": 2
}
